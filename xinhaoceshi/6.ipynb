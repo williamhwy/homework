{
 "cells": [
  {
   "cell_type": "code",
   "execution_count": 1,
   "metadata": {},
   "outputs": [],
   "source": [
    "import numpy as np\n",
    "import pandas as pd\n",
    "import warnings\n",
    "\n",
    "warnings.filterwarnings('ignore')\n",
    "from jaqs_fxdayu.data.dataservice import LocalDataService\n",
    "ds = LocalDataService()\n",
    "from time import time\n",
    "## 加freq参数\n"
   ]
  },
  {
   "cell_type": "code",
   "execution_count": 2,
   "metadata": {},
   "outputs": [
    {
     "name": "stderr",
     "output_type": "stream",
     "text": [
      "F:\\Anaconda\\envs\\dayu\\lib\\site-packages\\jaqs\\research\\signaldigger\\plotting.py:10: UserWarning: matplotlib.pyplot as already been imported, this call will have no effect.\n",
      "  mpl.use('Agg')\n",
      "F:\\Anaconda\\envs\\dayu\\lib\\site-packages\\matplotlib\\__init__.py:886: MatplotlibDeprecationWarning: \n",
      "examples.directory is deprecated; in the future, examples will be found relative to the 'datapath' directory.\n",
      "  \"found relative to the 'datapath' directory.\".format(key))\n"
     ]
    }
   ],
   "source": [
    "#通过测试报告，看多空信号的绩效，这里是定义报告格式\n",
    "from jaqs_fxdayu.research import TimingDigger\n",
    "\n",
    "#td = TimingDigger(output_folder=\".\", output_format='pdf',signal_name='alpha60')\n",
    "\n",
    "def TimingSignal(td, dv, long='Long', short='Short',closeLong='closeLong', closeShort='closeShort'\\\n",
    "                 , mhp=None,sl=None,sp=None):\n",
    "    # step 1：实例化TimingDigger 通过output_folder和output_format指定测试报告的输出路径和输出格式，通过signal_name指定绩效文件名称\n",
    "\n",
    "    #多空信号分别计算一遍 输出汇总结果\n",
    "    td.process_signal(\n",
    "        enter_signal=dv.get_ts(long),\n",
    "        exit_signal=dv.get_ts(closeLong),\n",
    "        sig_type=\"long\",  # 信号类型 long/short\n",
    "        price=dv.get_ts('close'),\n",
    "        max_holding_period=mhp,  # 最大持有天数 可为空\n",
    "        stoploss=-sl,  # 止损百分比 负数 可为空\n",
    "        stopprofit=sp,  # 止盈百分比 正数 可为空\n",
    "    )\n",
    "\n",
    "    td.process_signal(\n",
    "        enter_signal=dv.get_ts(short),\n",
    "        exit_signal=dv.get_ts(closeShort),\n",
    "        sig_type=\"short\",  # 信号类型 long/short\n",
    "        price=dv.get_ts(\"close\"),\n",
    "        max_holding_period=mhp,  # 最大持有天数 可为空\n",
    "        stoploss=-sl,  # 止损百分比 负数 可为空\n",
    "        stopprofit=sp,  # 止盈百分比 正数 可为空\n",
    "    )\n"
   ]
  },
  {
   "cell_type": "code",
   "execution_count": 3,
   "metadata": {},
   "outputs": [
    {
     "name": "stdout",
     "output_type": "stream",
     "text": [
      "8.618040323257446\n"
     ]
    }
   ],
   "source": [
    "start = time()\n",
    "path = r'./min_data/VnTrader_1Min_Db'\n",
    "props = {'fields': 'open,high,low,close,volume','symbol': 'BTCUSDT:binance', 'freq': '1D',\n",
    "         'start_date':20180101000000}\n",
    "\n",
    "Time_dict = ds.bar_reader(path,props)\n",
    "print(time()-start)"
   ]
  },
  {
   "cell_type": "code",
   "execution_count": 4,
   "metadata": {},
   "outputs": [],
   "source": [
    "from jaqs_fxdayu.data.hf_dataview import HFDataView\n",
    "dv = HFDataView()"
   ]
  },
  {
   "cell_type": "code",
   "execution_count": 5,
   "metadata": {},
   "outputs": [
    {
     "name": "stdout",
     "output_type": "stream",
     "text": [
      "Initialize dataview success.\n"
     ]
    }
   ],
   "source": [
    "dv.create_init_dv(Time_dict.set_index([\"trade_date\",\"symbol\"]))\n",
    "data1D = Time_dict.set_index('datetime')"
   ]
  },
  {
   "cell_type": "code",
   "execution_count": 6,
   "metadata": {},
   "outputs": [],
   "source": [
    "REVS5M20_J = dv.add_formula('REVS5M20_A','close/Delay(close,5)-close/Delay(close,20)', add_data=True)"
   ]
  },
  {
   "cell_type": "markdown",
   "metadata": {},
   "source": [
    "进场信号：五日动量和20日动量的差值大于0，说明最近的上升的势头很猛\n",
    "出场信号：五日动量和20日动量的差值小于于0，说明最近的下降的势头很猛"
   ]
  },
  {
   "cell_type": "code",
   "execution_count": 7,
   "metadata": {},
   "outputs": [],
   "source": [
    "Long = dv.add_formula('Long','If(REVS5M20_A>0, 2, 0)', add_data=True)\n",
    "Short = dv.add_formula('Short','If(REVS5M20_A<0, -2, 0)', add_data=True)\n",
    "\n",
    "close_long = dv.add_formula(\"closeLong\",\"If(Short==-2,1,0)\", add_data=True)\n",
    "close_short = dv.add_formula(\"closeShort\",\"If(Long==2,-1,0)\", add_data=True)"
   ]
  },
  {
   "cell_type": "code",
   "execution_count": 8,
   "metadata": {},
   "outputs": [
    {
     "name": "stdout",
     "output_type": "stream",
     "text": [
      "Nan Data Count (should be zero) : 0;  Percentage of effective data: 53%\n",
      "Nan Data Count (should be zero) : 0;  Percentage of effective data: 35%\n"
     ]
    }
   ],
   "source": [
    "td = TimingDigger(output_folder=\".\", output_format='pdf',signal_name='REVS5M20_A')\n",
    "TimingSignal(td, dv, long='Long', short='Short',closeLong='closeLong', closeShort='closeShort',mhp=100, sl=0.05, sp=0.3)#调取数据"
   ]
  },
  {
   "cell_type": "code",
   "execution_count": 9,
   "metadata": {},
   "outputs": [
    {
     "name": "stdout",
     "output_type": "stream",
     "text": [
      "*****-Summary-*****\n",
      "Event Analysis\n",
      "                       win    loss      all\n",
      "t-stat               8.443 -25.343    0.221\n",
      "p-value              0.000   0.000    0.826\n",
      "mean                 0.116  -0.074    0.002\n",
      "std                  0.102   0.026    0.115\n",
      "info_ratio           1.138  -2.782    0.019\n",
      "skewness             1.080   0.217    1.389\n",
      "kurtosis             0.065   0.244    1.381\n",
      "pct5                 0.016  -0.119   -0.115\n",
      "pct25                0.032  -0.089   -0.075\n",
      "pct50                0.075  -0.073   -0.054\n",
      "pct75                0.170  -0.058    0.066\n",
      "pct95                0.330  -0.021    0.253\n",
      "occurance           56.000  84.000  140.000\n",
      "win_ratio              NaN     NaN    0.400\n",
      "win_mean/loss_mean     NaN     NaN    1.573\n"
     ]
    }
   ],
   "source": [
    "td.create_event_report(sig_type=\"long\")"
   ]
  },
  {
   "cell_type": "code",
   "execution_count": 10,
   "metadata": {},
   "outputs": [
    {
     "name": "stdout",
     "output_type": "stream",
     "text": [
      "*****-Summary-*****\n",
      "Event Analysis\n",
      "                       win    loss     all\n",
      "t-stat              10.279 -14.868   2.336\n",
      "p-value              0.000   0.000   0.022\n",
      "mean                 0.104  -0.061   0.024\n",
      "std                  0.069   0.027   0.098\n",
      "info_ratio           1.499  -2.241   0.244\n",
      "skewness             0.104   0.300   0.512\n",
      "kurtosis            -1.256   0.216  -1.029\n",
      "pct5                 0.004  -0.106  -0.096\n",
      "pct25                0.042  -0.072  -0.060\n",
      "pct50                0.097  -0.060   0.003\n",
      "pct75                0.154  -0.053   0.102\n",
      "pct95                0.210  -0.004   0.205\n",
      "occurance           48.000  45.000  93.000\n",
      "win_ratio              NaN     NaN   0.516\n",
      "win_mean/loss_mean     NaN     NaN   1.694\n"
     ]
    }
   ],
   "source": [
    "td.create_event_report(sig_type=\"short\")"
   ]
  },
  {
   "cell_type": "code",
   "execution_count": 11,
   "metadata": {},
   "outputs": [
    {
     "name": "stdout",
     "output_type": "stream",
     "text": [
      "*****-Summary-*****\n",
      "Event Analysis\n",
      "                        win     loss      all\n",
      "t-stat               12.659  -28.617    1.516\n",
      "p-value               0.000    0.000    0.131\n",
      "mean                  0.110   -0.069    0.011\n",
      "std                   0.089    0.027    0.109\n",
      "info_ratio            1.247   -2.529    0.100\n",
      "skewness              0.978    0.257    1.081\n",
      "kurtosis              0.427    0.261    0.566\n",
      "pct5                  0.012   -0.117   -0.107\n",
      "pct25                 0.032   -0.088   -0.069\n",
      "pct50                 0.087   -0.065   -0.030\n",
      "pct75                 0.168   -0.057    0.074\n",
      "pct95                 0.309   -0.016    0.213\n",
      "occurance           104.000  129.000  233.000\n",
      "win_ratio               NaN      NaN    0.446\n",
      "win_mean/loss_mean      NaN      NaN    1.591\n"
     ]
    }
   ],
   "source": [
    "td.create_event_report(sig_type=\"long_short\") #同时计算多空头信号的绩效"
   ]
  },
  {
   "cell_type": "markdown",
   "metadata": {},
   "source": [
    "可以看出输出的绩效报告之中win_ratio>0.4,win_mean/loss_mean>1.5，整体来说效果不错"
   ]
  },
  {
   "cell_type": "code",
   "execution_count": 12,
   "metadata": {},
   "outputs": [
    {
     "name": "stdout",
     "output_type": "stream",
     "text": [
      "5.390886306762695\n"
     ]
    }
   ],
   "source": [
    "start = time()\n",
    "path = r'./min_data/VnTrader_1Min_Db'\n",
    "props = {'fields': 'open,high,low,close,volume','symbol': 'EOSUSDT:binance', 'freq': '1D',\n",
    "         'start_date':20180101000000}\n",
    "\n",
    "Time_dict = ds.bar_reader(path,props)\n",
    "print(time()-start)"
   ]
  },
  {
   "cell_type": "code",
   "execution_count": 13,
   "metadata": {},
   "outputs": [
    {
     "name": "stdout",
     "output_type": "stream",
     "text": [
      "Initialize dataview success.\n"
     ]
    }
   ],
   "source": [
    "dv.create_init_dv(Time_dict.set_index([\"trade_date\",\"symbol\"]))\n",
    "data1D = Time_dict.set_index('datetime')"
   ]
  },
  {
   "cell_type": "code",
   "execution_count": 14,
   "metadata": {},
   "outputs": [],
   "source": [
    "REVS5M20_J = dv.add_formula('REVS5M20_A','close/Delay(close,5)-close/Delay(close,20)', add_data=True)"
   ]
  },
  {
   "cell_type": "code",
   "execution_count": 15,
   "metadata": {},
   "outputs": [],
   "source": [
    "Long = dv.add_formula('Long','If(REVS5M20_A>0, 2, 0)', add_data=True)\n",
    "Short = dv.add_formula('Short','If(REVS5M20_A<0, -2, 0)', add_data=True)\n",
    "\n",
    "close_long = dv.add_formula(\"closeLong\",\"If(Short==-2,1,0)\", add_data=True)\n",
    "close_short = dv.add_formula(\"closeShort\",\"If(Long==2,-1,0)\", add_data=True)"
   ]
  },
  {
   "cell_type": "code",
   "execution_count": 16,
   "metadata": {},
   "outputs": [
    {
     "name": "stdout",
     "output_type": "stream",
     "text": [
      "Nan Data Count (should be zero) : 0;  Percentage of effective data: 57%\n",
      "Nan Data Count (should be zero) : 0;  Percentage of effective data: 21%\n"
     ]
    }
   ],
   "source": [
    "td = TimingDigger(output_folder=\".\", output_format='pdf',signal_name='REVS5M20_A1')\n",
    "TimingSignal(td, dv, long='Long', short='Short',closeLong='closeLong', closeShort='closeShort',mhp=100, sl=0.05, sp=0.3)#调取数据"
   ]
  },
  {
   "cell_type": "code",
   "execution_count": 17,
   "metadata": {},
   "outputs": [
    {
     "name": "stdout",
     "output_type": "stream",
     "text": [
      "*****-Summary-*****\n",
      "Event Analysis\n",
      "                       win    loss     all\n",
      "t-stat               6.368 -13.949  -0.037\n",
      "p-value              0.000   0.000   0.971\n",
      "mean                 0.217  -0.100  -0.001\n",
      "std                  0.152   0.048   0.174\n",
      "info_ratio           1.424  -2.079  -0.005\n",
      "skewness            -0.283  -0.269   1.220\n",
      "kurtosis            -1.665  -1.074   0.118\n",
      "pct5                 0.007  -0.174  -0.171\n",
      "pct25                0.035  -0.147  -0.120\n",
      "pct50                0.303  -0.086  -0.064\n",
      "pct75                0.364  -0.064   0.027\n",
      "pct95                0.393  -0.028   0.374\n",
      "occurance           21.000  46.000  67.000\n",
      "win_ratio              NaN     NaN   0.313\n",
      "win_mean/loss_mean     NaN     NaN   2.165\n"
     ]
    }
   ],
   "source": [
    "td.create_event_report(sig_type=\"long\")"
   ]
  },
  {
   "cell_type": "code",
   "execution_count": 18,
   "metadata": {},
   "outputs": [
    {
     "name": "stdout",
     "output_type": "stream",
     "text": [
      "*****-Summary-*****\n",
      "Event Analysis\n",
      "                       win    loss     all\n",
      "t-stat               3.878  -7.850   1.221\n",
      "p-value              0.002   0.000   0.234\n",
      "mean                 0.093  -0.067   0.027\n",
      "std                  0.087   0.025   0.104\n",
      "info_ratio           1.076  -2.617   0.255\n",
      "skewness             0.832   1.351   0.846\n",
      "kurtosis            -0.777   1.737  -0.219\n",
      "pct5                 0.001  -0.097  -0.093\n",
      "pct25                0.027  -0.072  -0.070\n",
      "pct50                0.067  -0.071   0.009\n",
      "pct75                0.134  -0.064   0.072\n",
      "pct95                0.244  -0.024   0.239\n",
      "occurance           14.000  10.000  24.000\n",
      "win_ratio              NaN     NaN   0.583\n",
      "win_mean/loss_mean     NaN     NaN   1.396\n"
     ]
    }
   ],
   "source": [
    "td.create_event_report(sig_type=\"short\")"
   ]
  },
  {
   "cell_type": "code",
   "execution_count": 19,
   "metadata": {},
   "outputs": [
    {
     "name": "stdout",
     "output_type": "stream",
     "text": [
      "*****-Summary-*****\n",
      "Event Analysis\n",
      "                       win    loss     all\n",
      "t-stat               6.802 -14.942   0.382\n",
      "p-value              0.000   0.000   0.703\n",
      "mean                 0.167  -0.094   0.006\n",
      "std                  0.143   0.047   0.159\n",
      "info_ratio           1.167  -2.015   0.040\n",
      "skewness             0.312  -0.408   1.163\n",
      "kurtosis            -1.544  -0.711   0.266\n",
      "pct5                 0.005  -0.172  -0.168\n",
      "pct25                0.031  -0.127  -0.095\n",
      "pct50                0.095  -0.077  -0.059\n",
      "pct75                0.314  -0.063   0.053\n",
      "pct95                0.382  -0.023   0.369\n",
      "occurance           35.000  56.000  91.000\n",
      "win_ratio              NaN     NaN   0.385\n",
      "win_mean/loss_mean     NaN     NaN   1.777\n"
     ]
    }
   ],
   "source": [
    "td.create_event_report(sig_type=\"long_short\")"
   ]
  },
  {
   "cell_type": "markdown",
   "metadata": {},
   "source": [
    "在新的品种中同样的进出场信号，可以发现long和long_short的绩效报告中win_ratio都略小于0.4，但是他们的win_mean/loss_mean都远比1大，即使牺牲一点胜率但是期望赚钱的数量是可以接受的，也就是在新品种中这个信号也适用"
   ]
  }
 ],
 "metadata": {
  "kernelspec": {
   "display_name": "Python 3",
   "language": "python",
   "name": "python3"
  },
  "language_info": {
   "codemirror_mode": {
    "name": "ipython",
    "version": 3
   },
   "file_extension": ".py",
   "mimetype": "text/x-python",
   "name": "python",
   "nbconvert_exporter": "python",
   "pygments_lexer": "ipython3",
   "version": "3.6.7"
  }
 },
 "nbformat": 4,
 "nbformat_minor": 2
}
