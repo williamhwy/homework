{
 "cells": [
  {
   "cell_type": "code",
   "execution_count": 1,
   "metadata": {},
   "outputs": [],
   "source": [
    "import numpy as np\n",
    "import pandas as pd\n",
    "import warnings\n",
    "\n",
    "warnings.filterwarnings('ignore')\n",
    "from jaqs_fxdayu.data.dataservice import LocalDataService\n",
    "ds = LocalDataService()\n",
    "from time import time\n",
    "## 加freq参数\n"
   ]
  },
  {
   "cell_type": "code",
   "execution_count": 2,
   "metadata": {},
   "outputs": [
    {
     "name": "stderr",
     "output_type": "stream",
     "text": [
      "F:\\Anaconda\\envs\\dayu\\lib\\site-packages\\jaqs\\research\\signaldigger\\plotting.py:10: UserWarning: matplotlib.pyplot as already been imported, this call will have no effect.\n",
      "  mpl.use('Agg')\n",
      "F:\\Anaconda\\envs\\dayu\\lib\\site-packages\\matplotlib\\__init__.py:886: MatplotlibDeprecationWarning: \n",
      "examples.directory is deprecated; in the future, examples will be found relative to the 'datapath' directory.\n",
      "  \"found relative to the 'datapath' directory.\".format(key))\n"
     ]
    }
   ],
   "source": [
    "#通过测试报告，看多空信号的绩效，这里是定义报告格式\n",
    "from jaqs_fxdayu.research import TimingDigger\n",
    "\n",
    "#td = TimingDigger(output_folder=\".\", output_format='pdf',signal_name='alpha60')\n",
    "\n",
    "def TimingSignal(td, dv, long='Long', short='Short',closeLong='closeLong', closeShort='closeShort'\\\n",
    "                 , mhp=None,sl=None,sp=None):\n",
    "    # step 1：实例化TimingDigger 通过output_folder和output_format指定测试报告的输出路径和输出格式，通过signal_name指定绩效文件名称\n",
    "\n",
    "    #多空信号分别计算一遍 输出汇总结果\n",
    "    td.process_signal(\n",
    "        enter_signal=dv.get_ts(long),\n",
    "        exit_signal=dv.get_ts(closeLong),\n",
    "        sig_type=\"long\",  # 信号类型 long/short\n",
    "        price=dv.get_ts('close'),\n",
    "        max_holding_period=mhp,  # 最大持有天数 可为空\n",
    "        stoploss=-sl,  # 止损百分比 负数 可为空\n",
    "        stopprofit=sp,  # 止盈百分比 正数 可为空\n",
    "    )\n",
    "\n",
    "    td.process_signal(\n",
    "        enter_signal=dv.get_ts(short),\n",
    "        exit_signal=dv.get_ts(closeShort),\n",
    "        sig_type=\"short\",  # 信号类型 long/short\n",
    "        price=dv.get_ts(\"close\"),\n",
    "        max_holding_period=mhp,  # 最大持有天数 可为空\n",
    "        stoploss=-sl,  # 止损百分比 负数 可为空\n",
    "        stopprofit=sp,  # 止盈百分比 正数 可为空\n",
    "    )\n"
   ]
  },
  {
   "cell_type": "code",
   "execution_count": 3,
   "metadata": {},
   "outputs": [
    {
     "name": "stdout",
     "output_type": "stream",
     "text": [
      "8.598069906234741\n"
     ]
    }
   ],
   "source": [
    "start = time()\n",
    "path = r'./min_data/VnTrader_1Min_Db'\n",
    "props = {'fields': 'open,high,low,close,volume','symbol': 'BTCUSDT:binance', 'freq': '1D',\n",
    "         'start_date':20180101000000}\n",
    "\n",
    "Time_dict = ds.bar_reader(path,props)\n",
    "print(time()-start)"
   ]
  },
  {
   "cell_type": "code",
   "execution_count": 4,
   "metadata": {},
   "outputs": [],
   "source": [
    "from jaqs_fxdayu.data.hf_dataview import HFDataView\n",
    "dv = HFDataView()"
   ]
  },
  {
   "cell_type": "code",
   "execution_count": 5,
   "metadata": {},
   "outputs": [
    {
     "name": "stdout",
     "output_type": "stream",
     "text": [
      "Initialize dataview success.\n"
     ]
    }
   ],
   "source": [
    "dv.create_init_dv(Time_dict.set_index([\"trade_date\",\"symbol\"]))\n",
    "data1D = Time_dict.set_index('datetime')"
   ]
  },
  {
   "cell_type": "markdown",
   "metadata": {},
   "source": [
    "价量趋势(Price and Volume Trend)指标．把能量变化与价格趋势有机地联系到了一起，从而构成了量价趋势指标"
   ]
  },
  {
   "cell_type": "code",
   "execution_count": 6,
   "metadata": {},
   "outputs": [
    {
     "name": "stdout",
     "output_type": "stream",
     "text": [
      "0.0030860768796606465\n"
     ]
    }
   ],
   "source": [
    "PVT = dv.add_formula('PVT','Return(close,1) * volume * 0.000001',add_data=True)\n",
    "print(float(PVT.max()-(PVT.max()-PVT.min())*0.4))"
   ]
  },
  {
   "cell_type": "code",
   "execution_count": null,
   "metadata": {},
   "outputs": [],
   "source": [
    "入场信号：当PVT值大于 PVT.max()-(PVT.max()-PVT.min())*0.4，买入，近似于选择排名前60%的数据\n",
    "出场信号：当PVT值小于 PVT.max()-(PVT.max()-PVT.min())*0.4，卖入，当指标低于这个值的时候说明信号并不强烈，可以卖出"
   ]
  },
  {
   "cell_type": "code",
   "execution_count": 7,
   "metadata": {},
   "outputs": [],
   "source": [
    "Long = dv.add_formula('Long','If(PVT>0.0030860768796606465, 2, 0)', add_data=True)\n",
    "Short = dv.add_formula('Short','If(PVT<0.0030860768796606465, -2, 0)', add_data=True)\n",
    "\n",
    "close_long = dv.add_formula(\"closeLong\",\"If(Short==-2,1,0)\", add_data=True)\n",
    "close_short = dv.add_formula(\"closeShort\",\"If(Long==2,-1,0)\", add_data=True)"
   ]
  },
  {
   "cell_type": "code",
   "execution_count": 8,
   "metadata": {},
   "outputs": [
    {
     "name": "stdout",
     "output_type": "stream",
     "text": [
      "Nan Data Count (should be zero) : 0;  Percentage of effective data: 5%\n",
      "Nan Data Count (should be zero) : 0;  Percentage of effective data: 88%\n"
     ]
    }
   ],
   "source": [
    "td = TimingDigger(output_folder=\".\", output_format='pdf',signal_name='PVT')\n",
    "TimingSignal(td, dv, long='Long', short='Short',closeLong='closeLong', closeShort='closeShort',mhp=100, sl=0.05, sp=0.3)#调取数据"
   ]
  },
  {
   "cell_type": "code",
   "execution_count": 9,
   "metadata": {},
   "outputs": [
    {
     "name": "stdout",
     "output_type": "stream",
     "text": [
      "*****-Summary-*****\n",
      "Event Analysis\n",
      "                       win   loss     all\n",
      "t-stat               3.992 -1.422   1.792\n",
      "p-value              0.003  0.291   0.098\n",
      "mean                 0.039 -0.033   0.022\n",
      "std                  0.029  0.033   0.043\n",
      "info_ratio           1.331 -1.005   0.517\n",
      "skewness             0.716 -0.685  -0.481\n",
      "kurtosis            -0.661 -1.500   0.558\n",
      "pct5                 0.010 -0.073  -0.040\n",
      "pct25                0.012 -0.047   0.009\n",
      "pct50                0.031 -0.013   0.017\n",
      "pct75                0.058 -0.010   0.049\n",
      "pct95                0.086 -0.007   0.082\n",
      "occurance           10.000  3.000  13.000\n",
      "win_ratio              NaN    NaN   0.769\n",
      "win_mean/loss_mean     NaN    NaN   1.163\n"
     ]
    }
   ],
   "source": [
    "td.create_event_report(sig_type=\"long\")"
   ]
  },
  {
   "cell_type": "code",
   "execution_count": 10,
   "metadata": {},
   "outputs": [
    {
     "name": "stdout",
     "output_type": "stream",
     "text": [
      "*****-Summary-*****\n",
      "Event Analysis\n",
      "                        win     loss      all\n",
      "t-stat               16.053  -24.716    4.773\n",
      "p-value               0.000    0.000    0.000\n",
      "mean                  0.185   -0.075    0.049\n",
      "std                   0.121    0.033    0.157\n",
      "info_ratio            1.531   -2.247    0.313\n",
      "skewness              0.171   -1.761    0.772\n",
      "kurtosis             -1.151    7.946   -0.641\n",
      "pct5                  0.007   -0.129   -0.121\n",
      "pct25                 0.081   -0.092   -0.067\n",
      "pct50                 0.179   -0.066   -0.028\n",
      "pct75                 0.310   -0.057    0.174\n",
      "pct95                 0.357   -0.031    0.339\n",
      "occurance           111.000  122.000  233.000\n",
      "win_ratio               NaN      NaN    0.476\n",
      "win_mean/loss_mean      NaN      NaN    2.471\n"
     ]
    }
   ],
   "source": [
    "td.create_event_report(sig_type=\"short\")"
   ]
  },
  {
   "cell_type": "code",
   "execution_count": 11,
   "metadata": {},
   "outputs": [
    {
     "name": "stdout",
     "output_type": "stream",
     "text": [
      "*****-Summary-*****\n",
      "Event Analysis\n",
      "                        win     loss      all\n",
      "t-stat               15.417  -24.252    4.880\n",
      "p-value               0.000    0.000    0.000\n",
      "mean                  0.173   -0.074    0.048\n",
      "std                   0.123    0.034    0.153\n",
      "info_ratio            1.407   -2.178    0.312\n",
      "skewness              0.290   -1.605    0.812\n",
      "kurtosis             -1.153    7.352   -0.505\n",
      "pct5                  0.007   -0.129   -0.121\n",
      "pct25                 0.062   -0.091   -0.066\n",
      "pct50                 0.168   -0.066   -0.007\n",
      "pct75                 0.305   -0.057    0.166\n",
      "pct95                 0.355   -0.021    0.338\n",
      "occurance           121.000  125.000  246.000\n",
      "win_ratio               NaN      NaN    0.492\n",
      "win_mean/loss_mean      NaN      NaN    2.341\n"
     ]
    }
   ],
   "source": [
    "td.create_event_report(sig_type=\"long_short\") #同时计算多空头信号的绩效"
   ]
  },
  {
   "cell_type": "markdown",
   "metadata": {},
   "source": [
    "可以看出输出的绩效报告之中win_ratio>0.4,win_mean/loss_mean>1，整体来说效果不错"
   ]
  },
  {
   "cell_type": "code",
   "execution_count": 12,
   "metadata": {},
   "outputs": [
    {
     "name": "stdout",
     "output_type": "stream",
     "text": [
      "4.481421232223511\n"
     ]
    }
   ],
   "source": [
    "start = time()\n",
    "path = r'./min_data/VnTrader_1Min_Db'\n",
    "props = {'fields': 'open,high,low,close,volume','symbol': 'EOSUSDT:binance', 'freq': '1D',\n",
    "         'start_date':20180101000000}\n",
    "\n",
    "Time_dict = ds.bar_reader(path,props)\n",
    "print(time()-start)"
   ]
  },
  {
   "cell_type": "code",
   "execution_count": 13,
   "metadata": {},
   "outputs": [
    {
     "name": "stdout",
     "output_type": "stream",
     "text": [
      "Initialize dataview success.\n"
     ]
    }
   ],
   "source": [
    "dv.create_init_dv(Time_dict.set_index([\"trade_date\",\"symbol\"]))\n",
    "data1D = Time_dict.set_index('datetime')"
   ]
  },
  {
   "cell_type": "code",
   "execution_count": 14,
   "metadata": {},
   "outputs": [
    {
     "name": "stdout",
     "output_type": "stream",
     "text": [
      "0.29527080494385616\n"
     ]
    }
   ],
   "source": [
    "PVT = dv.add_formula('PVT','Return(close,1) * volume * 0.000001',add_data=True)\n",
    "print(float(PVT.max()-(PVT.max()-PVT.min())*0.4))"
   ]
  },
  {
   "cell_type": "code",
   "execution_count": 15,
   "metadata": {},
   "outputs": [],
   "source": [
    "Long = dv.add_formula('Long','If(PVT>0.29527080494385616, 2, 0)', add_data=True)\n",
    "Short = dv.add_formula('Short','If(PVT<0.29527080494385616, -2, 0)', add_data=True)\n",
    "\n",
    "close_long = dv.add_formula(\"closeLong\",\"If(Short==-2,1,0)\", add_data=True)\n",
    "close_short = dv.add_formula(\"closeShort\",\"If(Long==2,-1,0)\", add_data=True)"
   ]
  },
  {
   "cell_type": "code",
   "execution_count": 16,
   "metadata": {},
   "outputs": [
    {
     "name": "stdout",
     "output_type": "stream",
     "text": [
      "Nan Data Count (should be zero) : 0;  Percentage of effective data: 23%\n",
      "Nan Data Count (should be zero) : 0;  Percentage of effective data: 74%\n"
     ]
    }
   ],
   "source": [
    "td = TimingDigger(output_folder=\".\", output_format='pdf',signal_name='PVT1')\n",
    "TimingSignal(td, dv, long='Long', short='Short',closeLong='closeLong', closeShort='closeShort',mhp=100, sl=0.05, sp=0.3)#调取数据"
   ]
  },
  {
   "cell_type": "code",
   "execution_count": 17,
   "metadata": {},
   "outputs": [
    {
     "name": "stdout",
     "output_type": "stream",
     "text": [
      "*****-Summary-*****\n",
      "Event Analysis\n",
      "                       win    loss     all\n",
      "t-stat               4.699  -4.062   0.552\n",
      "p-value              0.000   0.003   0.586\n",
      "mean                 0.050  -0.065   0.008\n",
      "std                  0.043   0.048   0.072\n",
      "info_ratio           1.175  -1.354   0.108\n",
      "skewness             0.863  -0.378  -0.278\n",
      "kurtosis            -0.483  -0.993  -0.203\n",
      "pct5                 0.003  -0.140  -0.117\n",
      "pct25                0.022  -0.098  -0.033\n",
      "pct50                0.037  -0.058   0.014\n",
      "pct75                0.070  -0.032   0.040\n",
      "pct95                0.127  -0.004   0.120\n",
      "occurance           17.000  10.000  27.000\n",
      "win_ratio              NaN     NaN   0.630\n",
      "win_mean/loss_mean     NaN     NaN   0.778\n"
     ]
    }
   ],
   "source": [
    "td.create_event_report(sig_type=\"long\")"
   ]
  },
  {
   "cell_type": "code",
   "execution_count": 18,
   "metadata": {},
   "outputs": [
    {
     "name": "stdout",
     "output_type": "stream",
     "text": [
      "*****-Summary-*****\n",
      "Event Analysis\n",
      "                       win    loss     all\n",
      "t-stat               8.583  -6.442   3.572\n",
      "p-value              0.000   0.000   0.001\n",
      "mean                 0.170  -0.059   0.059\n",
      "std                  0.132   0.059   0.154\n",
      "info_ratio           1.294  -1.006   0.385\n",
      "skewness             0.066  -1.453   0.602\n",
      "kurtosis            -1.750   1.357  -0.707\n",
      "pct5                 0.012  -0.197  -0.146\n",
      "pct25                0.038  -0.083  -0.038\n",
      "pct50                0.155  -0.040   0.008\n",
      "pct75                0.309  -0.017   0.157\n",
      "pct95                0.327  -0.001   0.323\n",
      "occurance           45.000  42.000  87.000\n",
      "win_ratio              NaN     NaN   0.517\n",
      "win_mean/loss_mean     NaN     NaN   2.869\n"
     ]
    }
   ],
   "source": [
    "td.create_event_report(sig_type=\"short\")"
   ]
  },
  {
   "cell_type": "code",
   "execution_count": 19,
   "metadata": {},
   "outputs": [
    {
     "name": "stdout",
     "output_type": "stream",
     "text": [
      "*****-Summary-*****\n",
      "Event Analysis\n",
      "                       win    loss      all\n",
      "t-stat               8.503  -7.560    3.559\n",
      "p-value              0.000   0.000    0.001\n",
      "mean                 0.138  -0.060    0.047\n",
      "std                  0.126   0.057    0.141\n",
      "info_ratio           1.089  -1.059    0.335\n",
      "skewness             0.537  -1.323    0.777\n",
      "kurtosis            -1.412   1.132   -0.152\n",
      "pct5                 0.007  -0.190   -0.133\n",
      "pct25                0.026  -0.084   -0.037\n",
      "pct50                0.080  -0.041    0.010\n",
      "pct75                0.294  -0.020    0.095\n",
      "pct95                0.324  -0.001    0.320\n",
      "occurance           62.000  52.000  114.000\n",
      "win_ratio              NaN     NaN    0.544\n",
      "win_mean/loss_mean     NaN     NaN    2.275\n"
     ]
    }
   ],
   "source": [
    "td.create_event_report(sig_type=\"long_short\")"
   ]
  },
  {
   "cell_type": "markdown",
   "metadata": {},
   "source": [
    "在新的品种中同样的进出场信号，可以发现win_ratio都是大于0.5的，除了long的绩效报告中win_mean/loss_mean<1之外，其他的win_mean/loss_mean都大于2，除了纯多头的效果不好之外，其他的效果都比较显著"
   ]
  },
  {
   "cell_type": "code",
   "execution_count": null,
   "metadata": {},
   "outputs": [],
   "source": []
  }
 ],
 "metadata": {
  "kernelspec": {
   "display_name": "Python 3",
   "language": "python",
   "name": "python3"
  },
  "language_info": {
   "codemirror_mode": {
    "name": "ipython",
    "version": 3
   },
   "file_extension": ".py",
   "mimetype": "text/x-python",
   "name": "python",
   "nbconvert_exporter": "python",
   "pygments_lexer": "ipython3",
   "version": "3.6.7"
  }
 },
 "nbformat": 4,
 "nbformat_minor": 2
}
